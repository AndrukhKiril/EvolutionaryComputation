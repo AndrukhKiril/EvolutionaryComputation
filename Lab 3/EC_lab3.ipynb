{
 "cells": [
  {
   "cell_type": "code",
   "execution_count": null,
   "metadata": {
    "colab": {
     "base_uri": "https://localhost:8080/"
    },
    "id": "6hWpyRqhIsOH",
    "outputId": "bbc03f9c-1568-4992-eb5f-733c7e603083"
   },
   "outputs": [],
   "source": [
    "import pandas as pd\n",
    "\n",
    "import numpy as np\n",
    "np.random.seed(1337)\n",
    "\n",
    "\n",
    "dataset_A = pd.read_csv('TSPA.csv', sep=';', names=['x', 'y', 'cost'])\n",
    "dataset_B = pd.read_csv('TSPB.csv', sep=';', names=['x', 'y', 'cost'])\n",
    "\n",
    "dataset_A.shape, dataset_B.shape"
   ]
  },
  {
   "cell_type": "code",
   "execution_count": null,
   "metadata": {
    "colab": {
     "base_uri": "https://localhost:8080/"
    },
    "id": "Pt_5fG3hIsou",
    "outputId": "ba8735ec-f230-418d-c632-a12413bf5d7d"
   },
   "outputs": [],
   "source": [
    "node1, node2 = dataset_B.iloc[177], dataset_B.iloc[43]\n",
    "\n",
    "print(f'{node1}\\n\\n{node2}')"
   ]
  },
  {
   "cell_type": "code",
   "execution_count": null,
   "metadata": {
    "id": "dligjn1RIvmY"
   },
   "outputs": [],
   "source": [
    "def euclidean_distance(node1, node2):\n",
    "    return np.int32(((node1['x'] - node2['x']) ** 2 + (node1['y'] - node2['y']) ** 2) ** 0.5 + 0.5)"
   ]
  },
  {
   "cell_type": "code",
   "execution_count": null,
   "metadata": {
    "colab": {
     "base_uri": "https://localhost:8080/"
    },
    "id": "Khg57E38Ixya",
    "outputId": "e23a607c-3cef-4a10-d5b7-d26ad9d62afd"
   },
   "outputs": [],
   "source": [
    "print(f'distance between node1 and node2 = {euclidean_distance(node1, node2)}')"
   ]
  },
  {
   "cell_type": "code",
   "execution_count": null,
   "metadata": {
    "id": "E0qKomSpIzA-"
   },
   "outputs": [],
   "source": [
    "def nodes_cost(node1, node2):\n",
    "    return node1['cost'] + node2['cost']"
   ]
  },
  {
   "cell_type": "code",
   "execution_count": null,
   "metadata": {
    "colab": {
     "base_uri": "https://localhost:8080/"
    },
    "id": "ALtMeZpkI0J2",
    "outputId": "8981e78c-17f9-4130-e4a9-18207f001060"
   },
   "outputs": [],
   "source": [
    "print(f'objective function of node1 and node2 = {euclidean_distance(node1, node2) + nodes_cost(node1, node2)}')"
   ]
  },
  {
   "cell_type": "code",
   "execution_count": null,
   "metadata": {
    "id": "cfuhNNn7I1Zf"
   },
   "outputs": [],
   "source": [
    "def calculate_function_cost(dataset):\n",
    "    cost = 0\n",
    "\n",
    "    x = dataset['x'].to_numpy()\n",
    "    y = dataset['y'].to_numpy()\n",
    "\n",
    "    for i in range(len(x) - 1):\n",
    "        cost += euclidean_distance({'x': x[i], 'y': y[i]}, {'x': x[i+1], 'y': y[i+1]})\n",
    "\n",
    "    cost += euclidean_distance({'x': x[-1], 'y': y[-1]}, {'x': x[0], 'y': y[0]})\n",
    "\n",
    "    cost += dataset['cost'].sum()\n",
    "\n",
    "    return int(cost)"
   ]
  },
  {
   "cell_type": "code",
   "execution_count": null,
   "metadata": {
    "id": "3J57tzP7I2sK"
   },
   "outputs": [],
   "source": [
    "def calculate_distance_matrix(dataset):\n",
    "    num_nodes = len(dataset)\n",
    "\n",
    "    distance_matrix = np.zeros((num_nodes, num_nodes), dtype=np.float64)\n",
    "\n",
    "    for i in range(num_nodes):\n",
    "        for j in range(num_nodes):\n",
    "            if i != j:\n",
    "                node1 = dataset.iloc[i]\n",
    "                node2 = dataset.iloc[j]\n",
    "                distance = euclidean_distance(node1, node2)\n",
    "\n",
    "                if np.isinf(distance) or np.isnan(distance):\n",
    "                    raise ValueError(f\"Invalid distance encountered between nodes {i} and {j}\")\n",
    "\n",
    "                cost = nodes_cost(node1, node2)\n",
    "                distance_matrix[i, j] = distance + cost\n",
    "\n",
    "    return distance_matrix"
   ]
  },
  {
   "cell_type": "code",
   "execution_count": null,
   "metadata": {
    "id": "aOYvl0GqI4Cy"
   },
   "outputs": [],
   "source": [
    "distance_matrices = []\n",
    "\n",
    "for dataset in [dataset_A, dataset_B]:\n",
    "    distance_matrices.append(calculate_distance_matrix(dataset))"
   ]
  },
  {
   "cell_type": "code",
   "execution_count": null,
   "metadata": {
    "colab": {
     "base_uri": "https://localhost:8080/"
    },
    "id": "bHK3JGdcI5Ti",
    "outputId": "9652e0fc-32ed-47d2-ce2e-4aab662b4bac"
   },
   "outputs": [],
   "source": [
    "print(f'objective function of node1 and node2 = {distance_matrices[1][177, 43]}')"
   ]
  },
  {
   "cell_type": "code",
   "execution_count": null,
   "metadata": {
    "id": "15mr0yoiI9dT"
   },
   "outputs": [],
   "source": [
    "import matplotlib.pyplot as plt\n",
    "\n",
    "import seaborn as sns\n",
    "\n",
    "def plot(dataset, solution=None):\n",
    "    max_x = dataset['x'].max()\n",
    "    max_y = dataset['y'].max()\n",
    "\n",
    "    aspect_ratio = int(max_x / max_y)\n",
    "\n",
    "    if max_x > max_y:\n",
    "        height = 6.0\n",
    "        width = height * aspect_ratio\n",
    "    else:\n",
    "        width = 6.0\n",
    "        height = width * aspect_ratio\n",
    "\n",
    "    sns.set_theme(rc={'figure.figsize': (width, height)})\n",
    "\n",
    "    sns.scatterplot(\n",
    "        data=dataset,\n",
    "        x='x',\n",
    "        y='y',\n",
    "        size='cost',\n",
    "        legend=False\n",
    "    )\n",
    "\n",
    "    if isinstance(solution, pd.DataFrame):\n",
    "        x = solution['x'].to_numpy()\n",
    "        y = solution['y'].to_numpy()\n",
    "\n",
    "        for i in range(len(x) - 1):\n",
    "            plt.plot([x[i], x[i + 1]], [y[i], y[i + 1]], color='b', linestyle='-')\n",
    "\n",
    "        plt.plot([x[-1], x[0]], [y[-1], y[0]], color='b', linestyle='-')"
   ]
  },
  {
   "cell_type": "code",
   "execution_count": null,
   "metadata": {
    "colab": {
     "base_uri": "https://localhost:8080/",
     "height": 550
    },
    "id": "sijMBsI8JBDC",
    "outputId": "ce0710cf-b80f-47f4-817c-e2d7d97d0bfd"
   },
   "outputs": [],
   "source": [
    "plot(dataset_A)\n",
    "plt.show()"
   ]
  },
  {
   "cell_type": "code",
   "execution_count": null,
   "metadata": {
    "colab": {
     "base_uri": "https://localhost:8080/",
     "height": 550
    },
    "id": "zRJe5uZfJCNp",
    "outputId": "4cdbb6e1-fbf7-4a30-a25f-783166b7e75b"
   },
   "outputs": [],
   "source": [
    "plot(dataset_B)\n",
    "plt.show()"
   ]
  },
  {
   "cell_type": "markdown",
   "metadata": {
    "id": "UP9UsbMNJeyq"
   },
   "source": [
    "# Local Search\n",
    "\n"
   ]
  },
  {
   "cell_type": "code",
   "execution_count": null,
   "metadata": {},
   "outputs": [],
   "source": [
    "def generate_random_solution(dataset):\n",
    "    size = int(len(dataset) * 0.5 + 0.5)\n",
    "\n",
    "    return dataset.loc[np.random.choice(dataset.values.shape[0], size=size, replace=False)]"
   ]
  },
  {
   "cell_type": "code",
   "execution_count": null,
   "metadata": {},
   "outputs": [],
   "source": [
    "def generate_greedy_cycle(dataset, distance_matrix, starting_node):\n",
    "    size = int(len(dataset) * 0.5 + 0.5)\n",
    "    num_nodes = len(dataset)\n",
    "\n",
    "    distance_matrix = distance_matrix.copy()\n",
    "\n",
    "    remaining_nodes = set(range(num_nodes))\n",
    "    remaining_nodes.remove(starting_node)\n",
    "    solution = [starting_node]\n",
    "\n",
    "    nearest_node = np.argmin(distance_matrix[starting_node, list(remaining_nodes)])\n",
    "    nearest_node_idx = list(remaining_nodes)[nearest_node]\n",
    "    solution.append(nearest_node_idx)\n",
    "    remaining_nodes.remove(nearest_node_idx)\n",
    "\n",
    "    while len(solution) < size:\n",
    "        best_insertion_cost = float('inf')\n",
    "        best_insertion = None\n",
    "\n",
    "        for node_idx in remaining_nodes:\n",
    "            for i in range(len(solution)):\n",
    "                next_i = (i + 1) % len(solution)\n",
    "\n",
    "                current_cost = (\n",
    "                    distance_matrix[solution[i], node_idx] +\n",
    "                    distance_matrix[node_idx, solution[next_i]] -\n",
    "                    distance_matrix[solution[i], solution[next_i]]\n",
    "                )\n",
    "                \n",
    "                if current_cost < best_insertion_cost:\n",
    "                    best_insertion_cost = current_cost\n",
    "                    best_insertion = (node_idx, i)\n",
    "        \n",
    "        solution.insert(best_insertion[1] + 1, best_insertion[0])\n",
    "        remaining_nodes.remove(best_insertion[0])\n",
    "    \n",
    "    return dataset.loc[solution]"
   ]
  },
  {
   "cell_type": "code",
   "execution_count": null,
   "metadata": {
    "id": "ZAJnU6ykTOtY"
   },
   "outputs": [],
   "source": [
    "def objective_change_two_nodes(distance_matrix, solution, i, j):\n",
    "    if i == j:\n",
    "        return np.int64(0.0)\n",
    "\n",
    "    n = len(solution)\n",
    "    a, b = solution[i], solution[j]\n",
    "\n",
    "    a_prev = solution[i - 1] if i > 0 else solution[-1]\n",
    "    a_next = solution[(i + 1) % n]\n",
    "    b_prev = solution[j - 1] if j > 0 else solution[-1]\n",
    "    b_next = solution[(j + 1) % n]\n",
    "\n",
    "    # Edges to be removed and added\n",
    "    edges_removed = np.array([[a_prev, a], [a, a_next], [b_prev, b], [b, b_next]])\n",
    "    edges_added = np.array([[a_prev, b], [b, a_next], [b_prev, a], [a, b_next]])\n",
    "\n",
    "    # Calculate delta\n",
    "    delta = distance_matrix[edges_removed[:, 0], edges_removed[:, 1]].sum() - \\\n",
    "            distance_matrix[edges_added[:, 0], edges_added[:, 1]].sum()\n",
    "\n",
    "    return delta\n",
    "\n",
    "def objective_change_two_edges(distance_matrix, solution, i, j):\n",
    "    if i >= j or (i == 0 and j == len(solution) - 1):\n",
    "        return 0.0\n",
    "\n",
    "    n = len(solution)\n",
    "    a_prev = solution[i - 1]\n",
    "    a = solution[i]\n",
    "    b = solution[j]\n",
    "    b_next = solution[(j + 1) % n]\n",
    "\n",
    "    # Edges before and after reversal\n",
    "    cost_before = distance_matrix[a_prev, a] + distance_matrix[b, b_next]\n",
    "    cost_after = distance_matrix[a_prev, b] + distance_matrix[a, b_next]\n",
    "\n",
    "    delta = cost_after - cost_before\n",
    "\n",
    "    return delta\n",
    "\n",
    "def objective_change_inter_route(distance_matrix, solution, i, vacant_node, node_costs):\n",
    "    prev_node = solution[i - 1] if i > 0 else solution[-1]\n",
    "    next_node = solution[(i + 1) % len(solution)]\n",
    "    node_in_solution = solution[i]\n",
    "\n",
    "    edge_cost_before = distance_matrix[prev_node, node_in_solution] + distance_matrix[node_in_solution, next_node]\n",
    "    edge_cost_after = distance_matrix[prev_node, vacant_node] + distance_matrix[vacant_node, next_node]\n",
    "    node_cost_before = node_costs[node_in_solution]\n",
    "    node_cost_after = node_costs[vacant_node]\n",
    "\n",
    "    delta = (edge_cost_after - node_cost_after) - (edge_cost_before - node_cost_before)\n",
    "    return delta\n",
    "\n",
    "def two_nodes_exchange(solution: list, i: int, j: int) -> list:\n",
    "    new_solution = solution.copy()\n",
    "    new_solution[i], new_solution[j] = new_solution[j], new_solution[i]\n",
    "    return new_solution\n",
    "\n",
    "def two_edges_exchange(solution: list, i: int, j: int) -> list:\n",
    "    if i >= j:\n",
    "        return solution.copy()  # No change if i >= j\n",
    "\n",
    "    new_solution = solution.copy()\n",
    "    new_solution[i : j + 1] = new_solution[i : j + 1][::-1]\n",
    "    return new_solution\n",
    "\n",
    "def inter_route_swap(\n",
    "    solution: list,\n",
    "    i: int,\n",
    "    vacant_node: int,\n",
    "    selected_nodes: set,\n",
    "    non_selected_nodes: set,\n",
    ") -> tuple:\n",
    "    new_solution = solution.copy()\n",
    "    node_in_solution = new_solution[i]\n",
    "    new_solution[i] = vacant_node\n",
    "\n",
    "    # Update the node sets\n",
    "    selected_nodes = selected_nodes.copy()\n",
    "    non_selected_nodes = non_selected_nodes.copy()\n",
    "\n",
    "    selected_nodes.remove(node_in_solution)\n",
    "    selected_nodes.add(vacant_node)\n",
    "    non_selected_nodes.remove(vacant_node)\n",
    "    non_selected_nodes.add(node_in_solution)\n",
    "\n",
    "    return new_solution, selected_nodes, non_selected_nodes\n",
    "\n",
    "def get_remaining_nodes(selected_nodes: set, num_nodes: int) -> set:\n",
    "    return set(range(num_nodes)) - selected_nodes\n",
    "\n",
    "def browse_intra_solutions(distance_matrix: np.ndarray, solution: list, intra_search: str) -> tuple:\n",
    "    intra_neighbors = []\n",
    "    n = len(solution)\n",
    "    for i in range(n):\n",
    "        for j in range(i + 1, n):\n",
    "            if intra_search == \"node\":\n",
    "                delta_nodes = objective_change_two_nodes(distance_matrix, solution, i, j)\n",
    "                if delta_nodes < 0:\n",
    "                    intra_neighbors.append((i, j, delta_nodes, \"node\"))\n",
    "            elif intra_search == \"edge\":\n",
    "                delta_edges = objective_change_two_edges(distance_matrix, solution, i, j)\n",
    "                if delta_edges < 0:\n",
    "                    intra_neighbors.append((i, j, delta_edges, \"edge\"))\n",
    "    return intra_neighbors\n",
    "\n",
    "def browse_inter_solutions(\n",
    "    distance_matrix: np.ndarray, solution: list, non_selected_nodes: set, costs: np.ndarray\n",
    ") -> list:\n",
    "    inter_neighbors = []\n",
    "    solution_array = np.array(solution)\n",
    "    for i in range(len(solution)):\n",
    "        for vacant_node in non_selected_nodes:\n",
    "            inter_delta = objective_change_inter_route(\n",
    "                distance_matrix, solution_array, i, vacant_node, costs\n",
    "            )\n",
    "            if inter_delta < 0:\n",
    "                inter_neighbors.append((i, vacant_node, inter_delta, \"inter\"))\n",
    "    return inter_neighbors\n",
    "\n",
    "def update_solution(\n",
    "    solution: list,\n",
    "    best_neighbor: tuple,\n",
    "    selected_nodes: set,\n",
    "    non_selected_nodes: set,\n",
    ") -> tuple:\n",
    "    neighbor_type = best_neighbor[-1]\n",
    "\n",
    "    if neighbor_type == \"node\":\n",
    "        i, j = best_neighbor[:2]\n",
    "        solution = two_nodes_exchange(solution, int(i), int(j))\n",
    "    elif neighbor_type == \"edge\":\n",
    "        i, j = best_neighbor[:2]\n",
    "        solution = two_edges_exchange(solution, int(i), int(j))\n",
    "    elif neighbor_type == \"inter\":\n",
    "        i, vacant_node = best_neighbor[:2]\n",
    "        solution, selected_nodes, non_selected_nodes = inter_route_swap(\n",
    "            solution, int(i), int(vacant_node), selected_nodes, non_selected_nodes\n",
    "        )\n",
    "    return solution, selected_nodes, non_selected_nodes\n",
    "\n",
    "def local_search(dataset, distance_matrix, initial_solution, search_type='greedy', intra_move_type='two_node', debug_mode=False):   \n",
    "    num_nodes = len(dataset)\n",
    "\n",
    "    initial_cost = calculate_function_cost(dataset.loc[initial_solution])\n",
    "\n",
    "    solution = initial_solution.copy()\n",
    "    selected_nodes = set(initial_solution)\n",
    "    non_selected_nodes = get_remaining_nodes(selected_nodes, num_nodes)\n",
    "\n",
    "    while True:\n",
    "        intra_neighbors = browse_intra_solutions(distance_matrix, solution, intra_move_type)\n",
    "        inter_neighbors = browse_inter_solutions(distance_matrix, solution, non_selected_nodes, dataset[\"cost\"].to_numpy())\n",
    "\n",
    "        all_neighbors = intra_neighbors + inter_neighbors\n",
    "\n",
    "        if not all_neighbors:\n",
    "            # No improvement found\n",
    "            break\n",
    "\n",
    "        if search_type == \"greedy\":\n",
    "            np.random.shuffle(all_neighbors)\n",
    "            best_neighbor = next((n for n in all_neighbors if n[2] < 0), None)\n",
    "        elif search_type == \"steepest\":\n",
    "            best_neighbor = min(all_neighbors, key=lambda x: x[2])\n",
    "\n",
    "        if best_neighbor is None:\n",
    "            # No improving neighbor found\n",
    "            break\n",
    "\n",
    "        # Save the old solution for debugging\n",
    "        old_solution = solution.copy()\n",
    "\n",
    "        # Update solution and cost\n",
    "        solution, selected_nodes, non_selected_nodes = update_solution(\n",
    "            solution, best_neighbor, selected_nodes, non_selected_nodes\n",
    "        )\n",
    "        initial_cost += best_neighbor[2]\n",
    "\n",
    "        if debug_mode:\n",
    "            # Calculate real improvement\n",
    "            real_improvement = calculate_function_cost(dataset.loc[old_solution]) - calculate_function_cost(\n",
    "                dataset.loc[solution]\n",
    "            )\n",
    "\n",
    "            if real_improvement != -best_neighbor[2]:\n",
    "                print(f\"Promised improvement: {best_neighbor[2]}\")\n",
    "                print(f\"Real improvement: {real_improvement}\")\n",
    "                print(f\"Operation: {best_neighbor[-1]}\")\n",
    "                print(\"===========\")\n",
    "\n",
    "            assert calculate_function_cost(dataset.loc[solution]) < calculate_function_cost(dataset.loc[old_solution])\n",
    "\n",
    "    return dataset.loc[solution]"
   ]
  },
  {
   "cell_type": "code",
   "execution_count": null,
   "metadata": {
    "colab": {
     "base_uri": "https://localhost:8080/",
     "height": 1000
    },
    "id": "iuZ4iZmbTy6S",
    "outputId": "ba7f4ebe-d7fe-4eda-ea2d-20217e059082"
   },
   "outputs": [],
   "source": [
    "for distance_matrix, dataset in enumerate([dataset_A, dataset_B]):\n",
    "    for use_random_start in [False, True]:    \n",
    "        for search_type in ['greedy', 'steepest']:\n",
    "            for intra_move_type in ['two_node', 'two_edge']:\n",
    "                rating = []\n",
    "\n",
    "                for idx in range(200):\n",
    "                    if use_random_start:\n",
    "                        initial_solution = list(generate_random_solution(dataset).index)\n",
    "                    else:\n",
    "                        initial_solution = list(generate_greedy_cycle(dataset, distance_matrix=distance_matrices[distance_matrix], starting_node=idx).index)\n",
    "\n",
    "                    regret_solution = local_search(dataset, distance_matrices[distance_matrix], initial_solution=initial_solution, search_type=search_type, intra_move_type=intra_move_type)\n",
    "                    # print(f\"Solution {idx}\")\n",
    "\n",
    "                    solution = list(regret_solution.index)\n",
    "\n",
    "                    rating.append((solution, calculate_function_cost(regret_solution)))\n",
    "\n",
    "                best_solution = sorted(rating, key=lambda x: x[1])[0]\n",
    "\n",
    "                print(best_solution[0])\n",
    "                print(f'Objective function = {best_solution[1]}')\n",
    "                print('################################\\n')\n",
    "\n",
    "                print(f\"Min: {sorted(rating, key=lambda x: x[1])[0][1]}\")\n",
    "\n",
    "                average = sum([obj_function for solution, obj_function in rating])/len(rating)\n",
    "\n",
    "                print(f'Average: {average}')\n",
    "                print(f\"Max: {sorted(rating, key=lambda x: x[1])[-1][1]}\")\n",
    "\n",
    "                plot(dataset, solution=dataset.loc[best_solution[0]])\n",
    "                plt.title(f'Strategy: {search_type}; Intra search: {intra_move_type}; algorithm: {'random' if use_random_start else 'greedy cycle'}')\n",
    "                plt.show()"
   ]
  }
 ],
 "metadata": {
  "colab": {
   "provenance": []
  },
  "kernelspec": {
   "display_name": ".venv",
   "language": "python",
   "name": "python3"
  },
  "language_info": {
   "codemirror_mode": {
    "name": "ipython",
    "version": 3
   },
   "file_extension": ".py",
   "mimetype": "text/x-python",
   "name": "python",
   "nbconvert_exporter": "python",
   "pygments_lexer": "ipython3",
   "version": "3.12.7"
  }
 },
 "nbformat": 4,
 "nbformat_minor": 0
}
