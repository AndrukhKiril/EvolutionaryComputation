{
 "cells": [
  {
   "cell_type": "code",
   "execution_count": 1,
   "metadata": {
    "colab": {
     "base_uri": "https://localhost:8080/"
    },
    "id": "6hWpyRqhIsOH",
    "outputId": "bbc03f9c-1568-4992-eb5f-733c7e603083"
   },
   "outputs": [
    {
     "data": {
      "text/plain": [
       "((200, 3), (200, 3))"
      ]
     },
     "execution_count": 1,
     "metadata": {},
     "output_type": "execute_result"
    }
   ],
   "source": [
    "import random\n",
    "import itertools as it\n",
    "import time\n",
    "\n",
    "import pandas as pd\n",
    "import numpy as np\n",
    "np.random.seed(1337)\n",
    "\n",
    "\n",
    "dataset_A = pd.read_csv('../TSPA.csv', sep=';', names=['x', 'y', 'cost'])\n",
    "dataset_B = pd.read_csv('../TSPB.csv', sep=';', names=['x', 'y', 'cost'])\n",
    "\n",
    "datasets = [dataset_A, dataset_B]\n",
    "\n",
    "dataset_A.shape, dataset_B.shape"
   ]
  },
  {
   "cell_type": "code",
   "execution_count": 2,
   "metadata": {
    "colab": {
     "base_uri": "https://localhost:8080/"
    },
    "id": "Pt_5fG3hIsou",
    "outputId": "ba8735ec-f230-418d-c632-a12413bf5d7d"
   },
   "outputs": [
    {
     "name": "stdout",
     "output_type": "stream",
     "text": [
      "x       1450\n",
      "y        398\n",
      "cost      52\n",
      "Name: 177, dtype: int64\n",
      "\n",
      "x       1654\n",
      "y       1486\n",
      "cost     638\n",
      "Name: 43, dtype: int64\n"
     ]
    }
   ],
   "source": [
    "node1, node2 = dataset_B.iloc[177], dataset_B.iloc[43]\n",
    "\n",
    "print(f'{node1}\\n\\n{node2}')"
   ]
  },
  {
   "cell_type": "code",
   "execution_count": 3,
   "metadata": {
    "id": "dligjn1RIvmY"
   },
   "outputs": [],
   "source": [
    "def euclidean_distance(node1, node2):\n",
    "    return np.int32(((node1['x'] - node2['x']) ** 2 + (node1['y'] - node2['y']) ** 2) ** 0.5 + 0.5)"
   ]
  },
  {
   "cell_type": "code",
   "execution_count": 4,
   "metadata": {
    "colab": {
     "base_uri": "https://localhost:8080/"
    },
    "id": "Khg57E38Ixya",
    "outputId": "e23a607c-3cef-4a10-d5b7-d26ad9d62afd"
   },
   "outputs": [
    {
     "name": "stdout",
     "output_type": "stream",
     "text": [
      "distance between node1 and node2 = 1107\n"
     ]
    }
   ],
   "source": [
    "print(f'distance between node1 and node2 = {euclidean_distance(node1, node2)}')"
   ]
  },
  {
   "cell_type": "code",
   "execution_count": 5,
   "metadata": {
    "id": "E0qKomSpIzA-"
   },
   "outputs": [],
   "source": [
    "def nodes_cost(node1, node2):\n",
    "    return node1['cost'] + node2['cost']"
   ]
  },
  {
   "cell_type": "code",
   "execution_count": 6,
   "metadata": {
    "colab": {
     "base_uri": "https://localhost:8080/"
    },
    "id": "ALtMeZpkI0J2",
    "outputId": "8981e78c-17f9-4130-e4a9-18207f001060"
   },
   "outputs": [
    {
     "name": "stdout",
     "output_type": "stream",
     "text": [
      "objective function of node1 and node2 = 1797\n"
     ]
    }
   ],
   "source": [
    "print(f'objective function of node1 and node2 = {euclidean_distance(node1, node2) + nodes_cost(node1, node2)}')"
   ]
  },
  {
   "cell_type": "code",
   "execution_count": 7,
   "metadata": {
    "id": "cfuhNNn7I1Zf"
   },
   "outputs": [],
   "source": [
    "def calculate_function_cost(dataset):\n",
    "    cost = dataset[\"cost\"].sum()\n",
    "    for i in range(-1, len(dataset) - 1):\n",
    "        cost += euclidean_distance(dataset.iloc[i], dataset.iloc[i + 1])\n",
    "    return int(cost)"
   ]
  },
  {
   "cell_type": "code",
   "execution_count": 8,
   "metadata": {
    "id": "3J57tzP7I2sK"
   },
   "outputs": [],
   "source": [
    "def calculate_distance_matrix(dataset):\n",
    "    n_nodes = len(dataset)\n",
    "    distance_matrix = np.zeros((n_nodes, n_nodes), dtype=np.float64)\n",
    "    for i, j in it.product(range(n_nodes), range(n_nodes)):\n",
    "        if i == j:\n",
    "            continue\n",
    "        a, b = dataset.iloc[i], dataset.iloc[j]\n",
    "        distance_matrix[i, j] = euclidean_distance(a, b) + nodes_cost(a, b)\n",
    "    return distance_matrix"
   ]
  },
  {
   "cell_type": "code",
   "execution_count": 9,
   "metadata": {
    "id": "aOYvl0GqI4Cy"
   },
   "outputs": [],
   "source": [
    "distance_matrix_A = calculate_distance_matrix(dataset_A)\n",
    "distance_matrix_B = calculate_distance_matrix(dataset_B)"
   ]
  },
  {
   "cell_type": "code",
   "execution_count": 10,
   "metadata": {
    "colab": {
     "base_uri": "https://localhost:8080/"
    },
    "id": "bHK3JGdcI5Ti",
    "outputId": "9652e0fc-32ed-47d2-ce2e-4aab662b4bac"
   },
   "outputs": [
    {
     "name": "stdout",
     "output_type": "stream",
     "text": [
      "objective function of node1 and node2 = 1831.0\n"
     ]
    }
   ],
   "source": [
    "print(f'objective function of node1 and node2 = {distance_matrix_A[177, 43]}')"
   ]
  },
  {
   "cell_type": "code",
   "execution_count": 11,
   "metadata": {
    "id": "15mr0yoiI9dT"
   },
   "outputs": [],
   "source": [
    "import matplotlib.pyplot as plt\n",
    "\n",
    "import seaborn as sns\n",
    "\n",
    "def plot(dataset, solution, title):\n",
    "    max_x = dataset['x'].max()\n",
    "    max_y = dataset['y'].max()\n",
    "\n",
    "    aspect_ratio = int(max_x / max_y)\n",
    "\n",
    "    if max_x > max_y:\n",
    "        height = 6.0\n",
    "        width = height * aspect_ratio\n",
    "    else:\n",
    "        width = 6.0\n",
    "        height = width * aspect_ratio\n",
    "\n",
    "    sns.set_theme(rc={'figure.figsize': (width, height)})\n",
    "\n",
    "    sns.scatterplot(\n",
    "        data=dataset,\n",
    "        x='x',\n",
    "        y='y',\n",
    "        size='cost',\n",
    "        legend=False\n",
    "    )\n",
    "\n",
    "    for i in range(-1, len(solution) - 1):\n",
    "        idx1 = solution[i]\n",
    "        idx2 = solution[i + 1]\n",
    "        x_values = [dataset.loc[idx1, \"x\"], dataset.loc[idx2, \"x\"]]\n",
    "        y_values = [dataset.loc[idx1, \"y\"], dataset.loc[idx2, \"y\"]]\n",
    "        plt.plot(\n",
    "            x_values,\n",
    "            y_values,\n",
    "            color=\"b\",\n",
    "            linestyle=\"-\",\n",
    "        )\n",
    "    \n",
    "    plt.title(title)\n",
    "    plt.show();"
   ]
  },
  {
   "cell_type": "code",
   "execution_count": 12,
   "metadata": {},
   "outputs": [],
   "source": [
    "def precompute_candidate_edges(distance_matrix, node_costs):\n",
    "    candidate_edges = {}\n",
    "    for node in range(len(distance_matrix)):\n",
    "        nearest = np.argsort(distance_matrix[node])[:5]\n",
    "        candidate_edges[node] = list(nearest)\n",
    "    return candidate_edges"
   ]
  },
  {
   "cell_type": "markdown",
   "metadata": {
    "id": "UP9UsbMNJeyq"
   },
   "source": [
    "# Local Search\n",
    "\n"
   ]
  },
  {
   "cell_type": "code",
   "execution_count": 13,
   "metadata": {},
   "outputs": [],
   "source": [
    "def init_random_solution(dataset: pd.DataFrame, distance_matrix: pd.DataFrame, start: int) -> pd.DataFrame:\n",
    "    return dataset.sample(n=int(len(dataset) * 0.5 + 0.5))"
   ]
  },
  {
   "cell_type": "code",
   "execution_count": null,
   "metadata": {
    "id": "ZAJnU6ykTOtY"
   },
   "outputs": [],
   "source": [
    "def objective_change_two_nodes(dm: np.ndarray, solution: list, i: int, j: int) -> float:\n",
    "    if i == j:\n",
    "        return 0.0\n",
    "\n",
    "    n = len(solution)\n",
    "    a, b = solution[i], solution[j]\n",
    "\n",
    "    a_prev = solution[i - 1] if i > 0 else solution[-1]\n",
    "    a_next = solution[(i + 1) % n]\n",
    "    b_prev = solution[j - 1] if j > 0 else solution[-1]\n",
    "    b_next = solution[(j + 1) % n]\n",
    "\n",
    "    # Edges to be removed and added\n",
    "    edges_removed = []\n",
    "    edges_added = []\n",
    "\n",
    "    # Remove edges connected to a and b\n",
    "    if a_prev not in (a, b):\n",
    "        edges_removed.append((a_prev, a))\n",
    "        edges_added.append((a_prev, b))\n",
    "    if a_next not in (a, b):\n",
    "        edges_removed.append((a, a_next))\n",
    "        edges_added.append((b, a_next))\n",
    "    if b_prev not in (a, b):\n",
    "        edges_removed.append((b_prev, b))\n",
    "        edges_added.append((b_prev, a))\n",
    "    if b_next not in (a, b):\n",
    "        edges_removed.append((b, b_next))\n",
    "        edges_added.append((a, b_next))\n",
    "\n",
    "    # Calculate delta\n",
    "    delta = -sum(dm[u, v] for u, v in edges_removed) + sum(\n",
    "        dm[u, v] for u, v in edges_added\n",
    "    )\n",
    "\n",
    "    return delta\n",
    "\n",
    "\n",
    "def objective_change_two_edges(dm: np.ndarray, solution: list, i: int, j: int) -> float:\n",
    "    if i >= j or (i == 0 and j == len(solution) - 1):\n",
    "        return 0.0\n",
    "\n",
    "    n = len(solution)\n",
    "    a_prev = solution[i - 1] if i > 0 else solution[-1]\n",
    "    a = solution[i]\n",
    "    b = solution[j]\n",
    "    b_next = solution[(j + 1) % n]\n",
    "\n",
    "    # Edges before and after reversal\n",
    "    cost_before = dm[a_prev, a] + dm[b, b_next]\n",
    "    cost_after = dm[a_prev, b] + dm[a, b_next]\n",
    "\n",
    "    delta = cost_after - cost_before\n",
    "\n",
    "    return delta\n",
    "\n",
    "\n",
    "def objective_change_inter_route(\n",
    "    dm: np.ndarray, solution: list, i: int, vacant_node: int, node_costs: list\n",
    ") -> float:\n",
    "    n = len(solution)\n",
    "    node_in_solution = solution[i]\n",
    "    prev_node = solution[i - 1] if i > 0 else solution[-1]\n",
    "    next_node = solution[(i + 1) % n]\n",
    "\n",
    "    # Edge costs before and after the swap\n",
    "    edge_cost_before = dm[prev_node, node_in_solution] + dm[node_in_solution, next_node]\n",
    "    edge_cost_after = dm[prev_node, vacant_node] + dm[vacant_node, next_node]\n",
    "\n",
    "    # Node costs before and after the swap\n",
    "    node_cost_before = node_costs[node_in_solution]\n",
    "    node_cost_after = node_costs[vacant_node]\n",
    "\n",
    "    delta = (edge_cost_after - node_cost_after) - (edge_cost_before - node_cost_before)\n",
    "\n",
    "    return delta\n",
    "\n",
    "\n",
    "def two_nodes_exchange(solution: list, i: int, j: int) -> list:\n",
    "    new_solution = solution.copy()\n",
    "    new_solution[i], new_solution[j] = new_solution[j], new_solution[i]\n",
    "    return new_solution\n",
    "\n",
    "\n",
    "def two_edges_exchange(solution: list, i: int, j: int) -> list:\n",
    "    if i >= j:\n",
    "        return solution.copy()  # No change if i >= j\n",
    "\n",
    "    new_solution = solution.copy()\n",
    "    new_solution[i : j + 1] = new_solution[i : j + 1][::-1]\n",
    "    return new_solution\n",
    "\n",
    "\n",
    "def inter_route_swap(\n",
    "    solution: list,\n",
    "    i: int,\n",
    "    vacant_node: int,\n",
    "    selected_nodes: set,\n",
    "    non_selected_nodes: set,\n",
    ") -> tuple:\n",
    "    new_solution = solution.copy()\n",
    "    node_in_solution = new_solution[i]\n",
    "    new_solution[i] = vacant_node\n",
    "\n",
    "    # Update the node sets\n",
    "    selected_nodes = selected_nodes.copy()\n",
    "    non_selected_nodes = non_selected_nodes.copy()\n",
    "\n",
    "    selected_nodes.remove(node_in_solution)\n",
    "    selected_nodes.add(vacant_node)\n",
    "    non_selected_nodes.remove(vacant_node)\n",
    "    non_selected_nodes.add(node_in_solution)\n",
    "\n",
    "    return new_solution, selected_nodes, non_selected_nodes\n",
    "\n",
    "\n",
    "def get_remaining_nodes(selected_nodes: set, num_nodes: int) -> set:\n",
    "    return set(range(num_nodes)) - selected_nodes\n",
    "\n",
    "\n",
    "def browse_intra_solutions(dm, solution, candidate_edges):\n",
    "    intra_neighbors = []\n",
    "    n = len(solution)\n",
    "    for i in range(n):\n",
    "        for j in range(i+1, n):\n",
    "            # Check if the new edges introduce at least one candidate edge\n",
    "            next_i = (i + 1) % n\n",
    "            prev_j = (j - 1) % n\n",
    "            if (solution[j] in candidate_edges[solution[next_i]] or\n",
    "                solution[i] in candidate_edges[solution[prev_j]]):\n",
    "                delta = objective_change_two_edges(dm, solution, i, j)\n",
    "                if delta < 0:\n",
    "                    intra_neighbors.append((i, j, delta, \"edge\"))\n",
    "    return intra_neighbors\n",
    "\n",
    "\n",
    "def browse_inter_solutions(dm, solution, non_selected_nodes, candidate_edges, node_costs):\n",
    "    inter_neighbors = []\n",
    "    for i in range(len(solution)):\n",
    "        for vacant_node in non_selected_nodes:\n",
    "            # Check if introducing at least one candidate edge\n",
    "            if (vacant_node in candidate_edges[solution[i]] or\n",
    "                solution[i] in candidate_edges[vacant_node]):\n",
    "                delta = objective_change_inter_route(dm, solution, i, vacant_node, node_costs)\n",
    "                if delta < 0:\n",
    "                    inter_neighbors.append((i, vacant_node, delta, \"inter\"))\n",
    "    return inter_neighbors\n",
    "\n",
    "\n",
    "def update_solution(solution, best_neighbor, selected_nodes, non_selected_nodes):\n",
    "    neighbor_type = best_neighbor[-1]\n",
    "    if neighbor_type == \"edge\":\n",
    "        i, j = best_neighbor[:2]\n",
    "        # Perform two-edge exchange\n",
    "        solution = two_edges_exchange(solution, i, j)\n",
    "    elif neighbor_type == \"inter\":\n",
    "        i, vacant_node = best_neighbor[:2]\n",
    "        # Swap selected and non-selected nodes\n",
    "        solution[i] = vacant_node\n",
    "        selected_nodes.add(vacant_node)\n",
    "        selected_nodes.remove(solution[i])\n",
    "        non_selected_nodes.add(solution[i])\n",
    "        non_selected_nodes.remove(vacant_node)\n",
    "    return solution, selected_nodes, non_selected_nodes\n",
    "\n",
    "\n",
    "def local_search(dataset: pd.DataFrame, distance_matrix: np.ndarray, initial_solution: list, candidate_edges: dict, strategy = \"greedy\", intra_search = \"edge\", debug_mode = True) -> pd.DataFrame:\n",
    "    num_nodes = len(distance_matrix)\n",
    "    initial_cost = calculate_function_cost(dataset.loc[initial_solution])\n",
    "\n",
    "    solution = initial_solution.copy()\n",
    "    selected_nodes = set(initial_solution)\n",
    "    non_selected_nodes = get_remaining_nodes(selected_nodes, num_nodes)\n",
    "\n",
    "    while True:\n",
    "        intra_neighbors = browse_intra_solutions(distance_matrix, solution, candidate_edges)\n",
    "        # Filter intra neighbors to include only those introducing candidate edges\n",
    "        filtered_intra = []\n",
    "        for neighbor in intra_neighbors:\n",
    "            i, j, delta, move_type = neighbor\n",
    "            # Identify new edges introduced by the move\n",
    "            new_edge1 = (solution[i], solution[j-1])\n",
    "            new_edge2 = (solution[j], solution[i+1])\n",
    "            # Check if at least one new edge is a candidate edge\n",
    "            if (new_edge1[1] in candidate_edges[new_edge1[0]] or\n",
    "                new_edge2[1] in candidate_edges[new_edge2[0]]):\n",
    "                filtered_intra.append(neighbor)\n",
    "        \n",
    "        # Generate inter-route neighbors\n",
    "        inter_neighbors = browse_inter_solutions(distance_matrix, solution, non_selected_nodes, candidate_edges)\n",
    "        # Filter inter neighbors to include only those introducing candidate edges\n",
    "        filtered_inter = []\n",
    "        for neighbor in inter_neighbors:\n",
    "            i, vacant_node, delta, move_type = neighbor\n",
    "            # Identify new edges introduced by the move\n",
    "            new_edge1 = (solution[i-1], vacant_node)\n",
    "            new_edge2 = (vacant_node, solution[i+1])\n",
    "            # Check if at least one new edge is a candidate edge\n",
    "            if (vacant_node in candidate_edges[solution[i-1]] or\n",
    "                solution[i+1] in candidate_edges[vacant_node]):\n",
    "                filtered_inter.append(neighbor)\n",
    "        \n",
    "        # Combine filtered neighbors\n",
    "        all_neighbors = filtered_intra + filtered_inter\n",
    "\n",
    "        if not all_neighbors:\n",
    "            # No improvement found\n",
    "            break\n",
    "\n",
    "        if strategy == \"greedy\":\n",
    "            random.shuffle(all_neighbors)\n",
    "            best_neighbor = next((n for n in all_neighbors if n[2] < 0), None)\n",
    "        elif strategy == \"steepest\":\n",
    "            candidates = [n for n in all_neighbors if n[2] < 0]\n",
    "            if not candidates:\n",
    "                break\n",
    "            best_neighbor = min(candidates, key=lambda x: x[2])\n",
    "\n",
    "        if best_neighbor is None:\n",
    "            # No improving neighbor found\n",
    "            break\n",
    "\n",
    "        # Save the old solution for debugging\n",
    "        old_solution = solution.copy()\n",
    "\n",
    "        # Update solution and cost\n",
    "        solution, selected_nodes, non_selected_nodes = update_solution(\n",
    "            solution, best_neighbor, selected_nodes, non_selected_nodes\n",
    "        )\n",
    "        initial_cost += best_neighbor[2]\n",
    "\n",
    "        if debug_mode:\n",
    "            # Calculate real improvement\n",
    "            real_improvement = calculate_function_cost(dataset.loc[old_solution]) - calculate_function_cost(\n",
    "                dataset.loc[solution]\n",
    "            )\n",
    "\n",
    "            if real_improvement != -best_neighbor[2]:\n",
    "                print(f\"Promised improvement: {best_neighbor[2]}\")\n",
    "                print(f\"Real improvement: {real_improvement}\")\n",
    "                print(f\"Operation: {best_neighbor[-1]}\")\n",
    "                print(\"===========\")\n",
    "\n",
    "            assert calculate_function_cost(dataset.loc[solution]) < calculate_function_cost(dataset.loc[old_solution])\n",
    "\n",
    "    return dataset.loc[solution]"
   ]
  },
  {
   "cell_type": "code",
   "execution_count": 15,
   "metadata": {
    "colab": {
     "base_uri": "https://localhost:8080/",
     "height": 1000
    },
    "id": "iuZ4iZmbTy6S",
    "outputId": "ba7f4ebe-d7fe-4eda-ea2d-20217e059082"
   },
   "outputs": [],
   "source": [
    "def init_local_search(\n",
    "    dataset: pd.DataFrame,\n",
    "    distance_matrix: np.ndarray,\n",
    "    start: int,\n",
    "    candidate_edges: np.ndarray,\n",
    ") -> pd.DataFrame:\n",
    "    solution = list(init_random_solution(dataset, distance_matrix, start).index)\n",
    "    \n",
    "    solution = local_search(dataset, distance_matrix, solution, candidate_edges, strategy='random', intra_search='edge', debug_mode=False)\n",
    "    \n",
    "    return solution"
   ]
  },
  {
   "cell_type": "code",
   "execution_count": 16,
   "metadata": {},
   "outputs": [],
   "source": [
    "def experiment(dataset, distance_matrix, candidate_edges):\n",
    "    start_time = time.time()\n",
    "    ratings = []\n",
    "    for i in range(200):\n",
    "        local_search_solution = init_local_search(dataset, distance_matrix, start=i, candidate_edges=candidate_edges)\n",
    "        solution = list(local_search_solution.index)\n",
    "        ratings.append((solution, calculate_function_cost(local_search_solution)))\n",
    "\n",
    "    best = sorted(ratings, key=lambda x: x[1])[0]\n",
    "    minimum = sorted(ratings, key=lambda x: x[1])[0][1]\n",
    "    mean = sum([obj_function for _, obj_function in ratings]) / len(ratings)\n",
    "    maximum = sorted(ratings, key=lambda x: x[1])[-1][1]\n",
    "    end_time = time.time()\n",
    "\n",
    "    print(f\"Best solution: {best[0]}\")\n",
    "    print(f\"Time to calculate: {(end_time - start_time):.4f}\")\n",
    "    print(\"Objective function statistics:\")\n",
    "    print(f\"{minimum = }\\n{mean = }\\n{maximum = }\")\n",
    "    plot(dataset, best[0], title='Candidate moves in local search')"
   ]
  },
  {
   "cell_type": "code",
   "execution_count": 17,
   "metadata": {},
   "outputs": [
    {
     "ename": "IndexError",
     "evalue": "string index out of range",
     "output_type": "error",
     "traceback": [
      "\u001b[1;31m---------------------------------------------------------------------------\u001b[0m",
      "\u001b[1;31mIndexError\u001b[0m                                Traceback (most recent call last)",
      "Cell \u001b[1;32mIn[17], line 3\u001b[0m\n\u001b[0;32m      1\u001b[0m node_costs \u001b[38;5;241m=\u001b[39m dataset_A[\u001b[38;5;124m'\u001b[39m\u001b[38;5;124mcost\u001b[39m\u001b[38;5;124m'\u001b[39m]\u001b[38;5;241m.\u001b[39mvalues\n\u001b[0;32m      2\u001b[0m candidate_edges \u001b[38;5;241m=\u001b[39m precompute_candidate_edges(distance_matrix_A, node_costs)\n\u001b[1;32m----> 3\u001b[0m \u001b[43mexperiment\u001b[49m\u001b[43m(\u001b[49m\u001b[43mdataset_A\u001b[49m\u001b[43m,\u001b[49m\u001b[43m \u001b[49m\u001b[43mdistance_matrix_A\u001b[49m\u001b[43m,\u001b[49m\u001b[43m \u001b[49m\u001b[43mcandidate_edges\u001b[49m\u001b[43m)\u001b[49m\n",
      "Cell \u001b[1;32mIn[16], line 5\u001b[0m, in \u001b[0;36mexperiment\u001b[1;34m(dataset, distance_matrix, candidate_edges)\u001b[0m\n\u001b[0;32m      3\u001b[0m ratings \u001b[38;5;241m=\u001b[39m []\n\u001b[0;32m      4\u001b[0m \u001b[38;5;28;01mfor\u001b[39;00m i \u001b[38;5;129;01min\u001b[39;00m \u001b[38;5;28mrange\u001b[39m(\u001b[38;5;241m200\u001b[39m):\n\u001b[1;32m----> 5\u001b[0m     local_search_solution \u001b[38;5;241m=\u001b[39m \u001b[43minit_local_search\u001b[49m\u001b[43m(\u001b[49m\u001b[43mdataset\u001b[49m\u001b[43m,\u001b[49m\u001b[43m \u001b[49m\u001b[43mdistance_matrix\u001b[49m\u001b[43m,\u001b[49m\u001b[43m \u001b[49m\u001b[43mstart\u001b[49m\u001b[38;5;241;43m=\u001b[39;49m\u001b[43mi\u001b[49m\u001b[43m,\u001b[49m\u001b[43m \u001b[49m\u001b[43mcandidate_edges\u001b[49m\u001b[38;5;241;43m=\u001b[39;49m\u001b[43mcandidate_edges\u001b[49m\u001b[43m)\u001b[49m\n\u001b[0;32m      6\u001b[0m     solution \u001b[38;5;241m=\u001b[39m \u001b[38;5;28mlist\u001b[39m(local_search_solution\u001b[38;5;241m.\u001b[39mindex)\n\u001b[0;32m      7\u001b[0m     ratings\u001b[38;5;241m.\u001b[39mappend((solution, calculate_function_cost(local_search_solution)))\n",
      "Cell \u001b[1;32mIn[15], line 9\u001b[0m, in \u001b[0;36minit_local_search\u001b[1;34m(dataset, distance_matrix, start, candidate_edges)\u001b[0m\n\u001b[0;32m      1\u001b[0m \u001b[38;5;28;01mdef\u001b[39;00m \u001b[38;5;21minit_local_search\u001b[39m(\n\u001b[0;32m      2\u001b[0m     dataset: pd\u001b[38;5;241m.\u001b[39mDataFrame,\n\u001b[0;32m      3\u001b[0m     distance_matrix: np\u001b[38;5;241m.\u001b[39mndarray,\n\u001b[0;32m      4\u001b[0m     start: \u001b[38;5;28mint\u001b[39m,\n\u001b[0;32m      5\u001b[0m     candidate_edges: np\u001b[38;5;241m.\u001b[39mndarray,\n\u001b[0;32m      6\u001b[0m ) \u001b[38;5;241m-\u001b[39m\u001b[38;5;241m>\u001b[39m pd\u001b[38;5;241m.\u001b[39mDataFrame:\n\u001b[0;32m      7\u001b[0m     solution \u001b[38;5;241m=\u001b[39m \u001b[38;5;28mlist\u001b[39m(init_random_solution(dataset, distance_matrix, start)\u001b[38;5;241m.\u001b[39mindex)\n\u001b[1;32m----> 9\u001b[0m     solution \u001b[38;5;241m=\u001b[39m \u001b[43mlocal_search\u001b[49m\u001b[43m(\u001b[49m\u001b[43mdataset\u001b[49m\u001b[43m,\u001b[49m\u001b[43m \u001b[49m\u001b[43mdistance_matrix\u001b[49m\u001b[43m,\u001b[49m\u001b[43m \u001b[49m\u001b[43msolution\u001b[49m\u001b[43m,\u001b[49m\u001b[43m \u001b[49m\u001b[43mcandidate_edges\u001b[49m\u001b[43m,\u001b[49m\u001b[43m \u001b[49m\u001b[43mstrategy\u001b[49m\u001b[38;5;241;43m=\u001b[39;49m\u001b[38;5;124;43m'\u001b[39;49m\u001b[38;5;124;43mrandom\u001b[39;49m\u001b[38;5;124;43m'\u001b[39;49m\u001b[43m,\u001b[49m\u001b[43m \u001b[49m\u001b[43mintra_search\u001b[49m\u001b[38;5;241;43m=\u001b[39;49m\u001b[38;5;124;43m'\u001b[39;49m\u001b[38;5;124;43medge\u001b[39;49m\u001b[38;5;124;43m'\u001b[39;49m\u001b[43m,\u001b[49m\u001b[43m \u001b[49m\u001b[43mdebug_mode\u001b[49m\u001b[38;5;241;43m=\u001b[39;49m\u001b[38;5;28;43;01mFalse\u001b[39;49;00m\u001b[43m)\u001b[49m\n\u001b[0;32m     11\u001b[0m     \u001b[38;5;28;01mreturn\u001b[39;00m solution\n",
      "Cell \u001b[1;32mIn[14], line 177\u001b[0m, in \u001b[0;36mlocal_search\u001b[1;34m(dataset, distance_matrix, initial_solution, candidate_edges, strategy, intra_search, debug_mode)\u001b[0m\n\u001b[0;32m    173\u001b[0m non_selected_nodes \u001b[38;5;241m=\u001b[39m get_remaining_nodes(selected_nodes, num_nodes)\n\u001b[0;32m    175\u001b[0m \u001b[38;5;28;01mwhile\u001b[39;00m \u001b[38;5;28;01mTrue\u001b[39;00m:\n\u001b[0;32m    176\u001b[0m     \u001b[38;5;66;03m# Generate intra-route neighbors\u001b[39;00m\n\u001b[1;32m--> 177\u001b[0m     intra_neighbors \u001b[38;5;241m=\u001b[39m \u001b[43mbrowse_intra_solutions\u001b[49m\u001b[43m(\u001b[49m\u001b[43mdistance_matrix\u001b[49m\u001b[43m,\u001b[49m\u001b[43m \u001b[49m\u001b[43msolution\u001b[49m\u001b[43m,\u001b[49m\u001b[43m \u001b[49m\u001b[43mintra_search\u001b[49m\u001b[43m)\u001b[49m\n\u001b[0;32m    178\u001b[0m     \u001b[38;5;66;03m# Filter intra neighbors to include only those introducing candidate edges\u001b[39;00m\n\u001b[0;32m    179\u001b[0m     filtered_intra \u001b[38;5;241m=\u001b[39m []\n",
      "Cell \u001b[1;32mIn[14], line 129\u001b[0m, in \u001b[0;36mbrowse_intra_solutions\u001b[1;34m(dm, solution, candidate_edges)\u001b[0m\n\u001b[0;32m    127\u001b[0m new_edge1 \u001b[38;5;241m=\u001b[39m (solution[j], solution[i\u001b[38;5;241m+\u001b[39m\u001b[38;5;241m1\u001b[39m \u001b[38;5;241m%\u001b[39m n])\n\u001b[0;32m    128\u001b[0m new_edge2 \u001b[38;5;241m=\u001b[39m (solution[i], solution[j\u001b[38;5;241m-\u001b[39m\u001b[38;5;241m1\u001b[39m \u001b[38;5;241m%\u001b[39m n])\n\u001b[1;32m--> 129\u001b[0m \u001b[38;5;28;01mif\u001b[39;00m (new_edge1 \u001b[38;5;129;01min\u001b[39;00m \u001b[43mcandidate_edges\u001b[49m\u001b[43m[\u001b[49m\u001b[43msolution\u001b[49m\u001b[43m[\u001b[49m\u001b[43mj\u001b[49m\u001b[43m]\u001b[49m\u001b[43m]\u001b[49m \u001b[38;5;129;01mor\u001b[39;00m\n\u001b[0;32m    130\u001b[0m     new_edge2 \u001b[38;5;129;01min\u001b[39;00m candidate_edges[solution[i]]):\n\u001b[0;32m    131\u001b[0m     delta \u001b[38;5;241m=\u001b[39m objective_change_two_edges(dm, solution, i, j)\n\u001b[0;32m    132\u001b[0m     \u001b[38;5;28;01mif\u001b[39;00m delta \u001b[38;5;241m<\u001b[39m \u001b[38;5;241m0\u001b[39m:\n",
      "\u001b[1;31mIndexError\u001b[0m: string index out of range"
     ]
    }
   ],
   "source": [
    "node_costs = dataset_A['cost'].values\n",
    "candidate_edges = precompute_candidate_edges(distance_matrix_A, node_costs)\n",
    "experiment(dataset_A, distance_matrix_A, candidate_edges)"
   ]
  },
  {
   "cell_type": "code",
   "execution_count": null,
   "metadata": {},
   "outputs": [],
   "source": [
    "node_costs = dataset_B['cost'].values\n",
    "candidate_edges = precompute_candidate_edges(distance_matrix_B, node_costs)\n",
    "experiment(dataset_B, distance_matrix_B, candidate_edges, node_costs, 'candidates')"
   ]
  }
 ],
 "metadata": {
  "colab": {
   "provenance": []
  },
  "kernelspec": {
   "display_name": ".venv",
   "language": "python",
   "name": "python3"
  },
  "language_info": {
   "codemirror_mode": {
    "name": "ipython",
    "version": 3
   },
   "file_extension": ".py",
   "mimetype": "text/x-python",
   "name": "python",
   "nbconvert_exporter": "python",
   "pygments_lexer": "ipython3",
   "version": "3.12.6"
  }
 },
 "nbformat": 4,
 "nbformat_minor": 0
}
