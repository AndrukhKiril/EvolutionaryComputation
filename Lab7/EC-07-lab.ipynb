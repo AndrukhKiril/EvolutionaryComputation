{
 "cells": [
  {
   "cell_type": "markdown",
   "metadata": {},
   "source": [
    "Uladzislau Lukashevich 155671, Kiril Andrukh 162069"
   ]
  },
  {
   "cell_type": "code",
   "execution_count": null,
   "metadata": {},
   "outputs": [],
   "source": [
    "%load_ext autoreload\n",
    "%autoreload 2"
   ]
  },
  {
   "cell_type": "code",
   "execution_count": null,
   "metadata": {},
   "outputs": [],
   "source": [
    "from pathlib import Path\n",
    "\n",
    "import pandas as pd\n",
    "from joblib import Parallel, delayed\n",
    "\n",
    "from hamiltonian_cycle.algorithms.lab7 import LargeNeighborhoodSearch\n",
    "from hamiltonian_cycle.costs import dm, function_cost\n",
    "from hamiltonian_cycle.plots import plot_solution"
   ]
  },
  {
   "cell_type": "code",
   "execution_count": null,
   "metadata": {},
   "outputs": [],
   "source": [
    "def read_dataset_csv(csv_path: Path) -> pd.DataFrame:\n",
    "    return pd.read_csv(csv_path, sep=\";\", names=[\"x\", \"y\", \"cost\"])\n",
    "\n",
    "\n",
    "DATA_DIR = Path(\"../data\").resolve()\n",
    "\n",
    "ds_a = read_dataset_csv(DATA_DIR / \"TSPA.csv\")\n",
    "ds_b = read_dataset_csv(DATA_DIR / \"TSPB.csv\")\n",
    "\n",
    "dm_a = dm(ds_a)\n",
    "dm_b = dm(ds_b)"
   ]
  },
  {
   "cell_type": "code",
   "execution_count": null,
   "metadata": {},
   "outputs": [],
   "source": [
    "class LNSMetrics:\n",
    "    def __init__(self, solution: pd.DataFrame, num_iterations: float):\n",
    "        self.cost = function_cost(solution)\n",
    "        self.solution = list(solution.index)\n",
    "        self.num_iterations = num_iterations\n",
    "\n",
    "\n",
    "def run_lns(lns: LargeNeighborhoodSearch) -> LNSMetrics:\n",
    "    lns_solution, num_iterations = lns()\n",
    "    return LNSMetrics(lns_solution, num_iterations)"
   ]
  },
  {
   "cell_type": "code",
   "execution_count": null,
   "metadata": {},
   "outputs": [],
   "source": [
    "max_runtime_sec = 2200\n",
    "lns_a = LargeNeighborhoodSearch(\n",
    "    ds=ds_a,\n",
    "    dm=dm_a,\n",
    "    max_runtime=max_runtime_sec,\n",
    "    w_cost=0.5,\n",
    "    w_regret=0.5,\n",
    "    apply_local_search=True,\n",
    ")\n",
    "lns_runs = 20\n",
    "\n",
    "metrics: list[LNSMetrics] = Parallel(n_jobs=-1)(\n",
    "    delayed(run_lns)(lns_a) for _ in range(lns_runs)\n",
    ")\n",
    "\n",
    "minimum = min(metrics, key=lambda x: x.cost)\n",
    "mean = sum([metric.cost for metric in metrics]) / len(metrics)\n",
    "maximum = max(metrics, key=lambda x: x.cost)\n",
    "mean_n_iterations = sum([metric.num_iterations for metric in metrics]) / len(metrics)"
   ]
  },
  {
   "cell_type": "code",
   "execution_count": null,
   "metadata": {},
   "outputs": [],
   "source": [
    "print(f\"Best solution: {minimum.solution}\")\n",
    "print(\"Objective function statistics:\")\n",
    "print(f\"{minimum.cost = }\\n{mean = }\\n{maximum.cost= }\")\n",
    "print(f\"Number of loop iterations: {mean_n_iterations}\")\n",
    "plot_solution(ds_a, minimum.solution, title=\"ILS\")"
   ]
  },
  {
   "cell_type": "code",
   "execution_count": null,
   "metadata": {},
   "outputs": [],
   "source": [
    "max_runtime_sec = 2200\n",
    "lns_b = LargeNeighborhoodSearch(\n",
    "    ds=ds_b,\n",
    "    dm=dm_b,\n",
    "    max_runtime=max_runtime_sec,\n",
    "    w_cost=0.5,\n",
    "    w_regret=0.5,\n",
    "    apply_local_search=True,\n",
    ")\n",
    "lns_runs = 20\n",
    "\n",
    "metrics: list[LNSMetrics] = Parallel(n_jobs=-1)(\n",
    "    delayed(run_lns)(lns_b) for _ in range(lns_runs)\n",
    ")\n",
    "\n",
    "minimum = min(metrics, key=lambda x: x.cost)\n",
    "mean = sum([metric.cost for metric in metrics]) / len(metrics)\n",
    "maximum = max(metrics, key=lambda x: x.cost)\n",
    "mean_n_iterations = sum([metric.num_iterations for metric in metrics]) / len(metrics)"
   ]
  },
  {
   "cell_type": "code",
   "execution_count": null,
   "metadata": {},
   "outputs": [],
   "source": [
    "print(f\"Best solution: {minimum.solution}\")\n",
    "print(\"Objective function statistics:\")\n",
    "print(f\"{minimum.cost = }\\n{mean = }\\n{maximum.cost= }\")\n",
    "print(f\"Number of loop iterations: {mean_n_iterations}\")\n",
    "plot_solution(ds_b, minimum.solution, title=\"ILS\")"
   ]
  },
  {
   "cell_type": "code",
   "execution_count": null,
   "metadata": {},
   "outputs": [],
   "source": [
    "max_runtime_sec = 2200\n",
    "lns_a = LargeNeighborhoodSearch(\n",
    "    ds=ds_a,\n",
    "    dm=dm_a,\n",
    "    max_runtime=max_runtime_sec,\n",
    "    w_cost=0.5,\n",
    "    w_regret=0.5,\n",
    "    apply_local_search=False,\n",
    ")\n",
    "lns_runs = 20\n",
    "\n",
    "metrics: list[LNSMetrics] = Parallel(n_jobs=-1)(\n",
    "    delayed(run_lns)(lns_a) for _ in range(lns_runs)\n",
    ")\n",
    "\n",
    "minimum = min(metrics, key=lambda x: x.cost)\n",
    "mean = sum([metric.cost for metric in metrics]) / len(metrics)\n",
    "maximum = max(metrics, key=lambda x: x.cost)\n",
    "mean_n_iterations = sum([metric.num_iterations for metric in metrics]) / len(metrics)"
   ]
  },
  {
   "cell_type": "code",
   "execution_count": null,
   "metadata": {},
   "outputs": [],
   "source": [
    "print(f\"Best solution: {minimum.solution}\")\n",
    "print(\"Objective function statistics:\")\n",
    "print(f\"{minimum.cost = }\\n{mean = }\\n{maximum.cost= }\")\n",
    "print(f\"Number of loop iterations: {mean_n_iterations}\")\n",
    "plot_solution(ds_a, minimum.solution, title=\"ILS\")"
   ]
  },
  {
   "cell_type": "code",
   "execution_count": null,
   "metadata": {},
   "outputs": [],
   "source": [
    "max_runtime_sec = 2200\n",
    "lns_b = LargeNeighborhoodSearch(\n",
    "    ds=ds_b,\n",
    "    dm=dm_b,\n",
    "    max_runtime=max_runtime_sec,\n",
    "    w_cost=0.5,\n",
    "    w_regret=0.5,\n",
    "    apply_local_search=False,\n",
    ")\n",
    "lns_runs = 20\n",
    "\n",
    "metrics: list[LNSMetrics] = Parallel(n_jobs=-1)(\n",
    "    delayed(run_lns)(lns_b) for _ in range(lns_runs)\n",
    ")\n",
    "\n",
    "minimum = min(metrics, key=lambda x: x.cost)\n",
    "mean = sum([metric.cost for metric in metrics]) / len(metrics)\n",
    "maximum = max(metrics, key=lambda x: x.cost)\n",
    "mean_n_iterations = sum([metric.num_iterations for metric in metrics]) / len(metrics)"
   ]
  },
  {
   "cell_type": "code",
   "execution_count": null,
   "metadata": {},
   "outputs": [],
   "source": [
    "print(f\"Best solution: {minimum.solution}\")\n",
    "print(\"Objective function statistics:\")\n",
    "print(f\"{minimum.cost = }\\n{mean = }\\n{maximum.cost= }\")\n",
    "print(f\"Number of loop iterationss: {mean_n_iterations}\")\n",
    "plot_solution(ds_b, minimum.solution, title=\"ILS\")"
   ]
  }
 ],
 "metadata": {
  "kernelspec": {
   "display_name": ".venv",
   "language": "python",
   "name": "python3"
  },
  "language_info": {
   "codemirror_mode": {
    "name": "ipython",
    "version": 3
   },
   "file_extension": ".py",
   "mimetype": "text/x-python",
   "name": "python",
   "nbconvert_exporter": "python",
   "pygments_lexer": "ipython3",
   "version": "3.13.1"
  }
 },
 "nbformat": 4,
 "nbformat_minor": 2
}
